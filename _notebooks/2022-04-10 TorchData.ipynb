{
 "cells": [
  {
   "cell_type": "markdown",
   "id": "e1cd96db-0ecd-4aff-b228-e42577cc2183",
   "metadata": {},
   "source": [
    "# \"TorchData: PyTorch Data loading utility library\"\n",
    "\n",
    "> Learn How to load image data with TorchData\n",
    "\n",
    "- toc: true \n",
    "- badges: true\n",
    "- comments: true\n",
    "- categories: [pytorch]\n",
    "- image: https://images.pexels.com/photos/1029635/pexels-photo-1029635.jpeg?auto=compress\n",
    "- keywords: PyTorch, deep learning, data\n"
   ]
  },
  {
   "cell_type": "markdown",
   "id": "bad60cce-ae79-41f9-9130-17d4d26f881e",
   "metadata": {},
   "source": [
    "# In this tutorial, we will learn about TorchData\n",
    "\n",
    "\n",
    "![Photo by Scott Webb from Pexels](https://images.pexels.com/photos/1029635/pexels-photo-1029635.jpeg?auto=compress&cs=tinysrgb&w=1260&h=750&dpr=2)"
   ]
  },
  {
   "cell_type": "code",
   "execution_count": 1,
   "id": "d9e3e684-5186-4938-90d8-0473a4ec65ab",
   "metadata": {},
   "outputs": [],
   "source": [
    "!pip install torchdata -q"
   ]
  },
  {
   "cell_type": "code",
   "execution_count": 1,
   "id": "b2abaf15-603b-48a7-b8b8-c8ba1792296e",
   "metadata": {},
   "outputs": [],
   "source": [
    "import os.path\n",
    "import re\n",
    "\n",
    "import torch\n",
    "from torch.utils.data.datapipes.utils.decoder import imagehandler, mathandler\n",
    "from torchdata.datapipes.iter import (\n",
    "    FileOpener,\n",
    "    Filter,\n",
    "    IterableWrapper,\n",
    "    IterKeyZipper,\n",
    "    Mapper,\n",
    "    RoutedDecoder,\n",
    "    TarArchiveLoader,FileLister,CSVParser, Filter, \n",
    ")\n",
    "\n",
    "\n",
    "from PIL import Image\n",
    "from torch.utils.data import DataLoader\n",
    "from torchvision.transforms.functional import to_tensor"
   ]
  },
  {
   "cell_type": "code",
   "execution_count": 2,
   "id": "d3edf997-1b6b-47d9-aba7-df146cf79dd8",
   "metadata": {},
   "outputs": [],
   "source": [
    "ROOT = \"/Users/aniket/datasets/cifar-10/train\""
   ]
  },
  {
   "cell_type": "code",
   "execution_count": 3,
   "id": "84204501-5045-4b32-8446-13fcae5f60c4",
   "metadata": {},
   "outputs": [
    {
     "name": "stderr",
     "output_type": "stream",
     "text": [
      "/Users/aniket/miniconda3/envs/am/lib/python3.9/site-packages/torch/utils/data/datapipes/iter/selecting.py:54: UserWarning: Lambda function is not supported for pickle, please use regular python function or functools.partial instead.\n",
      "  warnings.warn(\"Lambda function is not supported for pickle, please use \"\n"
     ]
    }
   ],
   "source": [
    "csv_dp = FileLister(f\"{ROOT}/../trainLabels.csv\")\n",
    "csv_dp = FileOpener(csv_dp)\n",
    "csv_dp = csv_dp.parse_csv()\n",
    "csv_dp = Filter(csv_dp, lambda x: x[1]!=\"label\")\n",
    "\n",
    "labels = {e: i for i, e in enumerate(set([e[1] for e in csv_dp]))}"
   ]
  },
  {
   "cell_type": "code",
   "execution_count": 4,
   "id": "24b9cdd0-5f73-417e-a08c-e6f6928f2091",
   "metadata": {},
   "outputs": [
    {
     "data": {
      "text/plain": [
       "['1', 'frog']"
      ]
     },
     "execution_count": 4,
     "metadata": {},
     "output_type": "execute_result"
    }
   ],
   "source": [
    "x = iter(csv_dp)\n",
    "next(x)"
   ]
  },
  {
   "cell_type": "code",
   "execution_count": 7,
   "id": "0410f55f-d9d7-4e7a-adc5-115b2ec7dce7",
   "metadata": {},
   "outputs": [],
   "source": [
    "def get_filename(data):    \n",
    "    idx, label = data\n",
    "    return f\"{ROOT}/{idx}.png\", label\n",
    "\n",
    "def load_image(data):\n",
    "    file, label = data\n",
    "    return Image.open(file), label\n",
    "\n",
    "def process(data):\n",
    "    img, label = data\n",
    "    return to_tensor(img), labels[label]"
   ]
  },
  {
   "cell_type": "code",
   "execution_count": 8,
   "id": "4b36cff7-d197-4487-91c7-d67a7c2bfcc6",
   "metadata": {},
   "outputs": [],
   "source": [
    "dp = csv_dp.map(get_filename)\n",
    "dp = dp.map(load_image)\n",
    "dp = dp.map(process)"
   ]
  },
  {
   "cell_type": "code",
   "execution_count": 9,
   "id": "2acf2945-7613-47e3-a3e3-ca8e2bd9db42",
   "metadata": {},
   "outputs": [],
   "source": [
    "dl = DataLoader(\n",
    "        dp,\n",
    "        batch_size=4,\n",
    "        shuffle=True,\n",
    "    )"
   ]
  },
  {
   "cell_type": "code",
   "execution_count": 10,
   "id": "cac9e958-b1de-46a8-bdf6-46eab05b20d8",
   "metadata": {},
   "outputs": [
    {
     "data": {
      "text/plain": [
       "torch.Size([4, 3, 32, 32])"
      ]
     },
     "execution_count": 10,
     "metadata": {},
     "output_type": "execute_result"
    }
   ],
   "source": [
    "next(iter(dl))[0].shape"
   ]
  },
  {
   "cell_type": "code",
   "execution_count": null,
   "id": "08a44cc1-f3a4-4891-ab37-5a49348fd5c6",
   "metadata": {},
   "outputs": [],
   "source": []
  },
  {
   "cell_type": "code",
   "execution_count": null,
   "id": "5ea9da16-da1a-49aa-b76e-cfeb5f557fe8",
   "metadata": {},
   "outputs": [],
   "source": []
  }
 ],
 "metadata": {
  "kernelspec": {
   "display_name": "Python 3 (ipykernel)",
   "language": "python",
   "name": "python3"
  },
  "language_info": {
   "codemirror_mode": {
    "name": "ipython",
    "version": 3
   },
   "file_extension": ".py",
   "mimetype": "text/x-python",
   "name": "python",
   "nbconvert_exporter": "python",
   "pygments_lexer": "ipython3",
   "version": "3.9.7"
  }
 },
 "nbformat": 4,
 "nbformat_minor": 5
}
